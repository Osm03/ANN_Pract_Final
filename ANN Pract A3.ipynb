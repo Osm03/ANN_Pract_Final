{
 "cells": [
  {
   "cell_type": "code",
   "execution_count": null,
   "id": "f1efb39a",
   "metadata": {},
   "outputs": [
    {
     "name": "stdout",
     "output_type": "stream",
     "text": [
      "Enter a number between 0 and 9: 6\n",
      "Even\n",
      "Enter a number between 0 and 9: 5\n",
      "Odd\n"
     ]
    }
   ],
   "source": [
    "import numpy as np\n",
    "\n",
    "# Define the training data\n",
    "X = np.array([\n",
    "    [48, 49, 50, 51, 52, 53, 54, 55, 56, 57],  # ASCII values for digits 0-9\n",
    "    [0, 1, 0, 1, 0, 1, 0, 1, 0, 1]              # Even/Odd labels for each digit\n",
    "])\n",
    "\n",
    "# Train the perceptron\n",
    "w, b = np.zeros(X.shape[0]), 0\n",
    "for _ in range(1000):\n",
    "    for x, y in X.T:\n",
    "        y_hat = int(np.dot(w, X[:, x-48]) + b >= 0)\n",
    "        w += (y - y_hat) * X[:, x-48]\n",
    "        b += (y - y_hat)\n",
    "\n",
    "# Test the perceptron\n",
    "while True:\n",
    "    x = input(\"Enter a number between 0 and 9: \")\n",
    "    if not x.isdigit() or not 0 <= int(x) <= 9:\n",
    "        print(\"Invalid input!\")\n",
    "        continue\n",
    "    y_hat = int(np.dot(w, X[:, int(x)]) + b >= 0)\n",
    "    print(\"Even\" if y_hat == 0 else \"Odd\")5"
   ]
  },
  {
   "cell_type": "code",
   "execution_count": null,
   "id": "b17447ad",
   "metadata": {},
   "outputs": [],
   "source": []
  }
 ],
 "metadata": {
  "kernelspec": {
   "display_name": "Python 3 (ipykernel)",
   "language": "python",
   "name": "python3"
  },
  "language_info": {
   "codemirror_mode": {
    "name": "ipython",
    "version": 3
   },
   "file_extension": ".py",
   "mimetype": "text/x-python",
   "name": "python",
   "nbconvert_exporter": "python",
   "pygments_lexer": "ipython3",
   "version": "3.9.13"
  }
 },
 "nbformat": 4,
 "nbformat_minor": 5
}
