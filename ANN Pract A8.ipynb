{
 "cells": [
  {
   "cell_type": "code",
   "execution_count": 1,
   "id": "ce368259-03aa-4511-b23f-7efcf0f0e197",
   "metadata": {},
   "outputs": [],
   "source": [
    "import numpy as np\n",
    "from sklearn.datasets import load_iris\n",
    "from sklearn.model_selection import train_test_split\n",
    "import warnings\n",
    "warnings.filterwarnings(\"ignore\")"
   ]
  },
  {
   "cell_type": "code",
   "execution_count": 2,
   "id": "54228546-fde5-41f5-bc4e-396fb0898715",
   "metadata": {},
   "outputs": [],
   "source": [
    "# Load the iris dataset\n",
    "iris = load_iris()\n",
    "\n",
    "# Split the dataset into training and testing sets\n",
    "X_train, X_test, y_train, y_test = train_test_split(iris.data, iris.target, test_size=0.2, random_state=42)\n"
   ]
  },
  {
   "cell_type": "code",
   "execution_count": 3,
   "id": "d28fe8ea-603e-4f7b-af98-82553b0f5c64",
   "metadata": {},
   "outputs": [],
   "source": [
    "class NeuralNetwork:\n",
    "    def __init__(self, input_size, hidden_size, output_size):\n",
    "        self.input_size = input_size\n",
    "        self.hidden_size = hidden_size\n",
    "        self.output_size = output_size\n",
    "        \n",
    "        #weights and biases for the hidden layer\n",
    "        self.W1 = np.random.randn(self.input_size, self.hidden_size)\n",
    "        self.b1 = np.zeros((1, self.hidden_size))\n",
    "        \n",
    "        #weights and biases for the output layer\n",
    "        self.W2 = np.random.randn(self.hidden_size, self.output_size)\n",
    "        self.b2 = np.zeros((1, self.output_size))\n",
    "        \n",
    "    def relu(self, z):\n",
    "        return np.maximum(0, z)\n",
    "    \n",
    "    def softmax(self, z):\n",
    "        return np.exp(z) / np.sum(np.exp(z), axis=1, keepdims=True)\n",
    "    \n",
    "    def forward(self, X):\n",
    "        # activation of the hidden layer\n",
    "        self.hidden_activation = self.relu(np.dot(X, self.W1) + self.b1)\n",
    "        \n",
    "        # output of the neural network\n",
    "        self.output_activation = self.softmax(np.dot(self.hidden_activation, self.W2) + self.b2)\n",
    "        \n",
    "        return self.output_activation\n",
    "    \n",
    "    def backward(self, X, y, output_activation, learning_rate):\n",
    "        dW2 = np.dot(self.hidden_activation.T, (output_activation - y))\n",
    "        db2 = np.sum(output_activation - y, axis=0, keepdims=True)\n",
    "        \n",
    "        dW1 = np.dot(X.T, np.dot(output_activation - y, self.W2.T) * (self.hidden_activation > 0))\n",
    "        db1 = np.sum(np.dot(output_activation - y, self.W2.T) * (self.hidden_activation > 0), axis=0, keepdims=True)\n",
    "    \n",
    "        self.W2 -= learning_rate * dW2\n",
    "        self.b2 -= learning_rate * db2\n",
    "        self.W1 -= learning_rate * dW1\n",
    "        self.b1 -= learning_rate * db1\n",
    "    \n",
    "    def train(self, X, y, learning_rate, num_epochs):\n",
    "\n",
    "        for epoch in range(num_epochs):\n",
    "            # Forward\n",
    "            output_activation = self.forward(X)\n",
    "            \n",
    "            # Backward\n",
    "            self.backward(X, y, output_activation, learning_rate)\n",
    "            \n",
    "            # Print the loss every 10 epochs\n",
    "            if (epoch+1) % 10 == 0:\n",
    "                loss = np.mean(-np.sum(y * np.log(output_activation), axis=1))\n",
    "                print(\"Epoch {0}/{1} - loss: {2}\".format(epoch+1, num_epochs, loss))\n",
    "    \n",
    "    def predict(self, X):\n",
    "        # Compute the output of the neural network for the given input\n",
    "        output_activation = self.forward(X)\n",
    "        \n",
    "        # Convert the output to a one-hot encoded vector\n",
    "        y_pred = np.zeros_like(output_activation)\n",
    "        #y_pred[np.arange(len(output_activation)), output_activation\n",
    "        y_pred[np.arange(len(output_activation)), output_activation.argmax(1)] = 1\n",
    "    \n",
    "        return y_pred\n"
   ]
  },
  {
   "cell_type": "code",
   "execution_count": 10,
   "id": "2fb9bd50-510c-4c4f-8a6a-2c006cd5aa05",
   "metadata": {},
   "outputs": [],
   "source": [
    "input_size = X_train.shape[1]\n",
    "hidden_size = 100\n",
    "output_size = 3\n",
    "learning_rate = 0.1\n",
    "num_epochs = 100\n",
    "\n",
    "nn = NeuralNetwork(input_size, hidden_size, output_size)"
   ]
  },
  {
   "cell_type": "code",
   "execution_count": 11,
   "id": "294992eb-129b-45e6-8ae4-de22260cc752",
   "metadata": {},
   "outputs": [
    {
     "name": "stdout",
     "output_type": "stream",
     "text": [
      "Epoch 10/100 - loss: nan\n",
      "Epoch 20/100 - loss: nan\n",
      "Epoch 30/100 - loss: nan\n",
      "Epoch 40/100 - loss: nan\n",
      "Epoch 50/100 - loss: nan\n",
      "Epoch 60/100 - loss: nan\n",
      "Epoch 70/100 - loss: nan\n",
      "Epoch 80/100 - loss: nan\n",
      "Epoch 90/100 - loss: nan\n",
      "Epoch 100/100 - loss: nan\n"
     ]
    }
   ],
   "source": [
    "nn.train(X_train, np.eye(output_size)[y_train], learning_rate, num_epochs)"
   ]
  },
  {
   "cell_type": "code",
   "execution_count": 12,
   "id": "f706928f-4958-4575-8ddb-39fd1cba43b9",
   "metadata": {},
   "outputs": [
    {
     "name": "stdout",
     "output_type": "stream",
     "text": [
      "Accuracy: 0.5555555555555556\n"
     ]
    }
   ],
   "source": [
    "y_pred = nn.predict(X_test)\n",
    "accuracy = np.mean(np.equal(y_pred, np.eye(output_size)[y_test]))\n",
    "print(\"Accuracy: {0}\".format(accuracy))"
   ]
  },
  {
   "cell_type": "code",
   "execution_count": null,
   "id": "fb3c3e3f",
   "metadata": {},
   "outputs": [],
   "source": []
  }
 ],
 "metadata": {
  "kernelspec": {
   "display_name": "Python 3 (ipykernel)",
   "language": "python",
   "name": "python3"
  },
  "language_info": {
   "codemirror_mode": {
    "name": "ipython",
    "version": 3
   },
   "file_extension": ".py",
   "mimetype": "text/x-python",
   "name": "python",
   "nbconvert_exporter": "python",
   "pygments_lexer": "ipython3",
   "version": "3.9.13"
  }
 },
 "nbformat": 4,
 "nbformat_minor": 5
}
