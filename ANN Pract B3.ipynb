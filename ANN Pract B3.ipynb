{
 "cells": [
  {
   "cell_type": "code",
   "execution_count": 3,
   "id": "70915a20",
   "metadata": {},
   "outputs": [
    {
     "name": "stdout",
     "output_type": "stream",
     "text": [
      "[[0.0016175 ]\n",
      " [0.99697123]\n",
      " [0.9991082 ]\n",
      " [0.00235181]]\n"
     ]
    }
   ],
   "source": [
    "import numpy as np\n",
    "\n",
    "class NeuralNetwork:\n",
    "    def __init__(self, input_dim, hidden_dim, output_dim):\n",
    "        self.weights1 = np.random.randn(input_dim, hidden_dim)\n",
    "        self.bias1 = np.zeros(hidden_dim)\n",
    "        self.weights2 = np.random.randn(hidden_dim, output_dim)\n",
    "        self.bias2 = np.zeros(output_dim)\n",
    "\n",
    "    def forward(self, X):\n",
    "        self.z1 = X.dot(self.weights1) + self.bias1\n",
    "        self.a1 = self.sigmoid(self.z1)\n",
    "        self.z2 = self.a1.dot(self.weights2) + self.bias2\n",
    "        self.a2 = self.sigmoid(self.z2)\n",
    "        return self.a2\n",
    "\n",
    "    def backward(self, X, y, learning_rate):\n",
    "        delta2 = self.a2 - y\n",
    "        delta1 = delta2.dot(self.weights2.T) * self.sigmoid_derivative(self.a1)\n",
    "\n",
    "        self.weights2 -= learning_rate * self.a1.T.dot(delta2)\n",
    "        self.bias2 -= learning_rate * np.sum(delta2, axis=0)\n",
    "        self.weights1 -= learning_rate * X.T.dot(delta1)\n",
    "        self.bias1 -= learning_rate * np.sum(delta1, axis=0)\n",
    "\n",
    "    def train(self, X, y, epochs, learning_rate):\n",
    "        for _ in range(epochs):\n",
    "            self.forward(X)\n",
    "            self.backward(X, y, learning_rate)\n",
    "\n",
    "    def predict(self, X):\n",
    "        return self.forward(X)\n",
    "\n",
    "    @staticmethod\n",
    "    def sigmoid(x):\n",
    "        return 1 / (1 + np.exp(-x))\n",
    "\n",
    "    @staticmethod\n",
    "    def sigmoid_derivative(x):\n",
    "        return x * (1 - x)\n",
    "\n",
    "\n",
    "# Example usage\n",
    "X = np.array([[0, 0], [0, 1], [1, 0], [1, 1]])\n",
    "y = np.array([[0], [1], [1], [0]])\n",
    "\n",
    "# Create and train the neural network\n",
    "nn = NeuralNetwork(X.shape[1], 4, y.shape[1])\n",
    "nn.train(X, y, epochs=10000, learning_rate=0.1)\n",
    "\n",
    "# Test the neural network\n",
    "print(nn.predict(X))"
   ]
  },
  {
   "cell_type": "code",
   "execution_count": null,
   "id": "f5d20e51",
   "metadata": {},
   "outputs": [],
   "source": []
  }
 ],
 "metadata": {
  "kernelspec": {
   "display_name": "Python 3 (ipykernel)",
   "language": "python",
   "name": "python3"
  },
  "language_info": {
   "codemirror_mode": {
    "name": "ipython",
    "version": 3
   },
   "file_extension": ".py",
   "mimetype": "text/x-python",
   "name": "python",
   "nbconvert_exporter": "python",
   "pygments_lexer": "ipython3",
   "version": "3.9.13"
  }
 },
 "nbformat": 4,
 "nbformat_minor": 5
}
