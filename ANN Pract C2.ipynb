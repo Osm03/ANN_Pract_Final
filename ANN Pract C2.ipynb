{
 "cells": [
  {
   "cell_type": "code",
   "execution_count": 1,
   "id": "8f008616",
   "metadata": {},
   "outputs": [
    {
     "name": "stdout",
     "output_type": "stream",
     "text": [
      "Epoch 1/10\n",
      "1875/1875 [==============================] - 19s 10ms/step - loss: 0.1604 - accuracy: 0.9524 - val_loss: 0.0602 - val_accuracy: 0.9809\n",
      "Epoch 2/10\n",
      "1875/1875 [==============================] - 17s 9ms/step - loss: 0.0556 - accuracy: 0.9829 - val_loss: 0.0479 - val_accuracy: 0.9841\n",
      "Epoch 3/10\n",
      "1875/1875 [==============================] - 18s 9ms/step - loss: 0.0369 - accuracy: 0.9884 - val_loss: 0.0462 - val_accuracy: 0.9848\n",
      "Epoch 4/10\n",
      "1875/1875 [==============================] - 18s 9ms/step - loss: 0.0246 - accuracy: 0.9924 - val_loss: 0.0448 - val_accuracy: 0.9844\n",
      "Epoch 5/10\n",
      "1875/1875 [==============================] - 17s 9ms/step - loss: 0.0183 - accuracy: 0.9941 - val_loss: 0.0507 - val_accuracy: 0.9843\n",
      "Epoch 6/10\n",
      "1875/1875 [==============================] - 18s 9ms/step - loss: 0.0141 - accuracy: 0.9953 - val_loss: 0.0517 - val_accuracy: 0.9842\n",
      "Epoch 7/10\n",
      "1875/1875 [==============================] - 18s 9ms/step - loss: 0.0097 - accuracy: 0.9968 - val_loss: 0.0499 - val_accuracy: 0.9859\n",
      "Epoch 8/10\n",
      "1875/1875 [==============================] - 18s 9ms/step - loss: 0.0083 - accuracy: 0.9973 - val_loss: 0.0547 - val_accuracy: 0.9843\n",
      "Epoch 9/10\n",
      "1875/1875 [==============================] - 18s 9ms/step - loss: 0.0060 - accuracy: 0.9981 - val_loss: 0.0482 - val_accuracy: 0.9864\n",
      "Epoch 10/10\n",
      "1875/1875 [==============================] - 18s 9ms/step - loss: 0.0050 - accuracy: 0.9983 - val_loss: 0.0563 - val_accuracy: 0.9849\n",
      "313/313 [==============================] - 1s 3ms/step - loss: 0.0563 - accuracy: 0.9849\n",
      "Test accuracy: 0.9848999977111816\n"
     ]
    }
   ],
   "source": [
    "import tensorflow as tf\n",
    "from tensorflow.keras import datasets, layers, models\n",
    "\n",
    "# Load and preprocess the dataset\n",
    "(train_images, train_labels), (test_images, test_labels) = datasets.mnist.load_data()\n",
    "\n",
    "train_images, test_images = train_images / 255.0, test_images / 255.0\n",
    "\n",
    "# Define and train the CNN\n",
    "model = models.Sequential([\n",
    "    layers.Conv2D(32, (3, 3), activation='relu', input_shape=(28, 28, 1)),\n",
    "    layers.MaxPooling2D((2, 2)),\n",
    "    layers.Flatten(),\n",
    "    layers.Dense(64, activation='relu'),\n",
    "    layers.Dense(10)\n",
    "])\n",
    "\n",
    "model.compile(optimizer='adam',\n",
    "              loss=tf.keras.losses.SparseCategoricalCrossentropy(from_logits=True),\n",
    "              metrics=['accuracy'])\n",
    "\n",
    "model.fit(train_images, train_labels, epochs=10, validation_data=(test_images, test_labels))\n",
    "\n",
    "# Evaluate the trained model\n",
    "test_loss, test_acc = model.evaluate(test_images, test_labels)\n",
    "print(\"Test accuracy:\", test_acc)"
   ]
  },
  {
   "cell_type": "code",
   "execution_count": 3,
   "id": "0b145498",
   "metadata": {},
   "outputs": [
    {
     "name": "stdout",
     "output_type": "stream",
     "text": [
      "Epoch 1/11\n",
      "1688/1688 [==============================] - 18s 10ms/step - loss: 0.1611 - accuracy: 0.9493 - val_loss: 0.0560 - val_accuracy: 0.9835\n",
      "Epoch 2/11\n",
      "1688/1688 [==============================] - 17s 10ms/step - loss: 0.0507 - accuracy: 0.9841 - val_loss: 0.0402 - val_accuracy: 0.9882\n",
      "Epoch 3/11\n",
      "1688/1688 [==============================] - 18s 10ms/step - loss: 0.0342 - accuracy: 0.9893 - val_loss: 0.0421 - val_accuracy: 0.9888\n",
      "Epoch 4/11\n",
      "1688/1688 [==============================] - 24s 14ms/step - loss: 0.0268 - accuracy: 0.9916 - val_loss: 0.0353 - val_accuracy: 0.9902\n",
      "Epoch 5/11\n",
      "1688/1688 [==============================] - 17s 10ms/step - loss: 0.0204 - accuracy: 0.9934 - val_loss: 0.0340 - val_accuracy: 0.9912\n",
      "Epoch 6/11\n",
      "1688/1688 [==============================] - 25s 15ms/step - loss: 0.0166 - accuracy: 0.9947 - val_loss: 0.0342 - val_accuracy: 0.9913\n",
      "Epoch 7/11\n",
      "1688/1688 [==============================] - 18s 10ms/step - loss: 0.0114 - accuracy: 0.9962 - val_loss: 0.0391 - val_accuracy: 0.9890\n",
      "Epoch 8/11\n",
      "1688/1688 [==============================] - 21s 12ms/step - loss: 0.0111 - accuracy: 0.9961 - val_loss: 0.0393 - val_accuracy: 0.9915\n",
      "Epoch 9/11\n",
      "1688/1688 [==============================] - 22s 13ms/step - loss: 0.0084 - accuracy: 0.9971 - val_loss: 0.0446 - val_accuracy: 0.9897\n",
      "Epoch 10/11\n",
      "1688/1688 [==============================] - 18s 11ms/step - loss: 0.0075 - accuracy: 0.9972 - val_loss: 0.0431 - val_accuracy: 0.9917\n",
      "Epoch 11/11\n",
      "1688/1688 [==============================] - 25s 15ms/step - loss: 0.0074 - accuracy: 0.9974 - val_loss: 0.0449 - val_accuracy: 0.9902\n",
      "313/313 [==============================] - 1s 4ms/step - loss: 0.0434 - accuracy: 0.9895\n",
      "test loss:  0.0434267595410347\n",
      "test acuracy 0.9894999861717224\n"
     ]
    }
   ],
   "source": [
    "import tensorflow as tf\n",
    "from tensorflow.keras.datasets import mnist\n",
    "from tensorflow.keras.layers import Conv2D, Dense, Flatten,MaxPooling2D\n",
    "from tensorflow.keras.models import Sequential\n",
    "from tensorflow.keras.optimizers import Adam\n",
    "\n",
    "#load the dataset\n",
    "(x_train,y_train),(x_test,y_test)=mnist.load_data()\n",
    "\n",
    "#preprocess the data\n",
    "x_train=x_train/255.0\n",
    "x_test=x_test/255.0\n",
    "\n",
    "x_train=x_train.reshape((x_train.shape[0],28,28,1))\n",
    "x_test=x_test.reshape((x_test.shape[0],28,28,1))\n",
    "\n",
    "#define the CNN model\n",
    "model=Sequential([\n",
    "    Conv2D(32,(3,3),activation='relu',input_shape=(28,28,1)),\n",
    "    MaxPooling2D((2,2)),\n",
    "    Conv2D(64,(3,3),activation='relu'),\n",
    "    MaxPooling2D((2,2)),\n",
    "    Flatten(),\n",
    "    Dense(64,activation='relu'),\n",
    "    Dense(10,activation='softmax'),\n",
    "])\n",
    "\n",
    "#compile the model\n",
    "model.compile(optimizer=Adam(learning_rate=0.001),\n",
    "             loss='sparse_categorical_crossentropy',\n",
    "             metrics=['accuracy'])\n",
    "\n",
    "#train the model\n",
    "model.fit(x_train,y_train,validation_split=0.1,epochs=11,batch_size=32)\n",
    "\n",
    "#evaluate the model on the test set\n",
    "test_loss,test_acc=model.evaluate(x_test,y_test)\n",
    "print(\"test loss: \",test_loss)\n",
    "print(\"test acuracy\",test_acc)"
   ]
  },
  {
   "cell_type": "code",
   "execution_count": 3,
   "id": "6e19491d",
   "metadata": {},
   "outputs": [
    {
     "ename": "SyntaxError",
     "evalue": "invalid syntax (3799977924.py, line 19)",
     "output_type": "error",
     "traceback": [
      "\u001b[1;36m  File \u001b[1;32m\"C:\\Users\\Om\\AppData\\Local\\Temp\\ipykernel_24788\\3799977924.py\"\u001b[1;36m, line \u001b[1;32m19\u001b[0m\n\u001b[1;33m    model.compile(optimizer='adam',(learning_rate=0.001),\u001b[0m\n\u001b[1;37m                                                 ^\u001b[0m\n\u001b[1;31mSyntaxError\u001b[0m\u001b[1;31m:\u001b[0m invalid syntax\n"
     ]
    }
   ],
   "source": [
    "import tensorflow as tf\n",
    "from tensorflow.keras import datasets, layers, models\n",
    "\n",
    "# Load and preprocess the dataset\n",
    "(train_images, train_labels), (test_images, test_labels) = datasets.mnist.load_data()\n",
    "\n",
    "train_images, test_images = train_images / 255.0, test_images / 255.0\n",
    "\n",
    "# Define and train the CNN\n",
    "model = models.Sequential([\n",
    "    layers.Conv2D(32, (3, 3), activation='relu', input_shape=(28, 28, 1)),\n",
    "    layers.MaxPooling2D((2, 2)),\n",
    "    layers.Flatten(),\n",
    "    layers.Dense(64, activation='relu'),\n",
    "    layers.Dense(10)\n",
    "])\n",
    "\n",
    "#compile the model\n",
    "model.compile(optimizer='adam',(learning_rate=0.001),\n",
    "             loss='sparse_categorical_crossentropy',\n",
    "             metrics=['accuracy'])\n",
    "\n",
    "#train the model\n",
    "model.fit(x_train,y_train,validation_split=0.1,epochs=11,batch_size=32)\n",
    "\n",
    "#evaluate the model on the test set\n",
    "test_loss,test_acc=model.evaluate(x_test,y_test)\n",
    "print(\"test loss: \",test_loss)\n",
    "print(\"test acuracy\",test_acc)"
   ]
  },
  {
   "cell_type": "code",
   "execution_count": null,
   "id": "4a982fd8",
   "metadata": {},
   "outputs": [],
   "source": []
  }
 ],
 "metadata": {
  "kernelspec": {
   "display_name": "Python 3 (ipykernel)",
   "language": "python",
   "name": "python3"
  },
  "language_info": {
   "codemirror_mode": {
    "name": "ipython",
    "version": 3
   },
   "file_extension": ".py",
   "mimetype": "text/x-python",
   "name": "python",
   "nbconvert_exporter": "python",
   "pygments_lexer": "ipython3",
   "version": "3.9.13"
  }
 },
 "nbformat": 4,
 "nbformat_minor": 5
}
